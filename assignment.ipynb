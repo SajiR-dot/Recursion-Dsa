{
 "cells": [
  {
   "cell_type": "code",
   "execution_count": 4,
   "metadata": {},
   "outputs": [
    {
     "name": "stdout",
     "output_type": "stream",
     "text": [
      "3\n",
      "7\n",
      "15\n"
     ]
    }
   ],
   "source": [
    "#Question 1\n",
    "\n",
    "#  Can you explain the logic and working of the Tower of Hanoi algorithm by writing a Java program? \n",
    "\n",
    "# How does the recursion work, and how are the movements of disks between rods accomplished?\n",
    "\n",
    "\n",
    "# Tower of hannoi\n",
    "\n",
    "# Consider 3 Towers T1 , T2 ,T3 \n",
    "\n",
    "# we need to move the disks from T1 to T2 with the help of T3\n",
    "\n",
    "# Let the number of  disks be n\n",
    "\n",
    "\n",
    "# Lets move n-1 disks from the Tower T1 to T3 and then move the remaining 1 disk from T1 to T2\n",
    "\n",
    "# Now move the remaining disks from T3 to T2\n",
    "\n",
    "\n",
    "def numMoves(n,T1,T2,T3):\n",
    "    #Base case condition\n",
    "    if n == 1:\n",
    "        return 1\n",
    "    \n",
    "    return numMoves(n-1,T1,T3,T2) + 1 + numMoves(n-1,T3,T2,T1) \n",
    "\n",
    "\n",
    "\n",
    "print(numMoves(2,'t1','t2','t3'))\n",
    "print(numMoves(3,'t1','t2','t3'))\n",
    "print(numMoves(4,'t1','t2','t3'))\n",
    "\n",
    "# For 2 disks it takes 3 moves\n",
    "# for 3 disks it takes 7 moves\n",
    "# for 4 disks it takes 15 moves\n",
    "    \n",
    "\n",
    "\n"
   ]
  },
  {
   "cell_type": "code",
   "execution_count": null,
   "metadata": {},
   "outputs": [],
   "source": [
    "# Question 2"
   ]
  },
  {
   "cell_type": "code",
   "execution_count": 5,
   "metadata": {},
   "outputs": [
    {
     "name": "stdout",
     "output_type": "stream",
     "text": [
      "22\n"
     ]
    }
   ],
   "source": [
    "#Question 3\n",
    "\n",
    "#  Print the max value of the array [ 13, 1, -3, 22, 5]\n",
    "\n",
    "\n",
    "# initializing an array arr \n",
    "# defining a function which accepts the array and length of the array as arguments\n",
    "\n",
    "arr = [ 13, 1, -3, 22, 5]\n",
    "\n",
    "\n",
    "def Maxvalue(arr,n): # arr is the array and n is the number of elements\n",
    "    # base case condition\n",
    "    if n==0:\n",
    "        return 0\n",
    "    return max(arr[n-1],Maxvalue(arr,n-1))\n",
    "\n",
    "\n",
    "print(Maxvalue(arr,len(arr)))\n",
    "\n",
    "\n",
    "\n",
    "\n"
   ]
  },
  {
   "cell_type": "code",
   "execution_count": 6,
   "metadata": {},
   "outputs": [
    {
     "name": "stdout",
     "output_type": "stream",
     "text": [
      "120\n"
     ]
    }
   ],
   "source": [
    "# Question 4\n",
    "\n",
    "#  Find the sum of the values of the array\n",
    "# initializing an array arr \n",
    "arr = [92, 23, 15, -20, 10]\n",
    "\n",
    "def sumofarray(arr,n):\n",
    "    # Base case condition if number of elements is zero return 0\n",
    "    if n==0:\n",
    "        return 0\n",
    "    return arr[n-1] + sumofarray(arr,n-1) \n",
    "\n",
    "print(sumofarray(arr,len(arr)))\n",
    "\n"
   ]
  },
  {
   "cell_type": "code",
   "execution_count": 23,
   "metadata": {},
   "outputs": [
    {
     "name": "stdout",
     "output_type": "stream",
     "text": [
      "It is an armstrong number\n"
     ]
    }
   ],
   "source": [
    "# Question 5\n",
    "\n",
    "#  Given a number n. Print if it is an armstrong number or not.An armstrong number is a number if the sum \n",
    "# of every digit in that number raised to the power of total digits in that number is equal to the number\n",
    "\n",
    "def check_armstrong(num,order,total,temp):  \n",
    "        if temp==0:\n",
    "            if total==num:\n",
    "                return True\n",
    "            else:\n",
    "                return False\n",
    "        digit = temp % 10\n",
    "        total = total + digit**order\n",
    "        temp = temp//10\n",
    "        return check_armstrong(num, order, total, temp)\n",
    "    \n",
    "    \n",
    "# The total variable stores the  digit sum\n",
    "# Temp variable is used to store the num\n",
    "# The recursion stops when the temp value becomes zero\n",
    "  \n",
    "total = 0 \n",
    "temp = num\n",
    "num = 153\n",
    "order = len(str(num))\n",
    "\n",
    "result = check_armstrong(num,order,total,temp)\n",
    "\n",
    "if result:\n",
    "    print(\"It is an armstrong number\")\n",
    "    \n",
    "else:\n",
    "    print(\"It is not an armstrong number\")\n",
    "\n"
   ]
  },
  {
   "cell_type": "code",
   "execution_count": null,
   "metadata": {},
   "outputs": [],
   "source": []
  }
 ],
 "metadata": {
  "kernelspec": {
   "display_name": "Python 3",
   "language": "python",
   "name": "python3"
  },
  "language_info": {
   "codemirror_mode": {
    "name": "ipython",
    "version": 3
   },
   "file_extension": ".py",
   "mimetype": "text/x-python",
   "name": "python",
   "nbconvert_exporter": "python",
   "pygments_lexer": "ipython3",
   "version": "3.11.4"
  }
 },
 "nbformat": 4,
 "nbformat_minor": 2
}
